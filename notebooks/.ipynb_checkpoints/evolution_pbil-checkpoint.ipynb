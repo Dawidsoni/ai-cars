{
 "cells": [
  {
   "cell_type": "code",
   "execution_count": 1,
   "metadata": {},
   "outputs": [],
   "source": [
    "import pickle\n",
    "import numpy as np\n",
    "import matplotlib.pyplot as plt\n",
    "import sys\n",
    "import time\n",
    "\n",
    "sys.path.append('..')\n",
    "from genotype_evaluator import GenotypeEvaluator\n",
    "\n",
    "%matplotlib inline"
   ]
  },
  {
   "cell_type": "markdown",
   "metadata": {},
   "source": [
    "## Pbil implementation"
   ]
  },
  {
   "cell_type": "code",
   "execution_count": 4,
   "metadata": {},
   "outputs": [],
   "source": [
    "def random_individual(probs):\n",
    "    x = np.empty(probs.shape[0], dtype=np.int32)\n",
    "    for i in range(probs.shape[0]):\n",
    "        x[i] = np.random.choice(3, p=[probs[i][0], probs[i][1], probs[i][2]])\n",
    "    return x\n",
    "\n",
    "\n",
    "def random_population(probs, population_size):\n",
    "    population = np.empty((population_size, probs.shape[0]), dtype=np.int32)\n",
    "    for i in range(population_size):\n",
    "        population[i] = random_individual(probs)\n",
    "    return population\n",
    "\n",
    "\n",
    "def get_updated_probabilities(probs, learning_rate, increased_index):\n",
    "    updated_probs = probs.copy()\n",
    "    updated_probs[increased_index] = (1 - learning_rate) * probs[increased_index] + learning_rate\n",
    "    decreased_indexes = list(set(range(len(probs))).difference([increased_index]))\n",
    "    decreased_elements_sum = np.sum(updated_probs[decreased_indexes])\n",
    "    if decreased_elements_sum == 0:\n",
    "        return updated_probs\n",
    "    excess_sum = np.sum(updated_probs) - 1\n",
    "    updated_probs[decreased_indexes] *= (decreased_elements_sum - excess_sum) / decreased_elements_sum\n",
    "    return updated_probs \n",
    "\n",
    "\n",
    "def pbil(objective_function, dim_size, population_size, learning_rate, mutation_prob, mutation_noise, max_time):\n",
    "    p = np.ones((dim_size, 3)) / 3\n",
    "    start_time = time.time()\n",
    "    populations = []\n",
    "    while time.time() - start_time < max_time:\n",
    "        samples = random_population(p, population_size)\n",
    "        populations.append(samples)\n",
    "        score_values = objective_function(samples)\n",
    "        print(\"Average score values: {}, best score value: {}\".format(np.mean(score_values), np.max(score_values)))\n",
    "        best_individual = samples[np.argmax(score_values)]\n",
    "        for k in range(dim_size):\n",
    "            p[k] = get_updated_probabilities(p[k], learning_rate, best_individual[k])\n",
    "        for k in range(dim_size):\n",
    "            if np.random.rand() < mutation_prob:\n",
    "                increased_index = np.random.choice(3)\n",
    "                p[k] = get_updated_probabilities(p[k], mutation_noise, increased_index)\n",
    "    return populations"
   ]
  },
  {
   "cell_type": "markdown",
   "metadata": {},
   "source": [
    "## Rounded board evaluator"
   ]
  },
  {
   "cell_type": "code",
   "execution_count": 2,
   "metadata": {},
   "outputs": [],
   "source": [
    "genotype_evaluator = GenotypeEvaluator('../clusters/human100_cluster.c', ['../boards/round_board.b'])"
   ]
  },
  {
   "cell_type": "code",
   "execution_count": null,
   "metadata": {},
   "outputs": [
    {
     "name": "stdout",
     "output_type": "stream",
     "text": [
      "Average score values: 350.43, best score value: 671.0\n",
      "Average score values: 349.37, best score value: 674.0\n",
      "Average score values: 365.51, best score value: 666.0\n",
      "Average score values: 340.92, best score value: 1101.0\n",
      "Average score values: 377.93, best score value: 1018.0\n",
      "Average score values: 429.46, best score value: 1136.0\n"
     ]
    }
   ],
   "source": [
    "rounded_board_populations = pbil(genotype_evaluator.evaluate_genotypes, 100, 100, 0.1, 0.05, 0.01, 3600)"
   ]
  }
 ],
 "metadata": {
  "kernelspec": {
   "display_name": "python3-dw",
   "language": "python",
   "name": "python3-dw"
  },
  "language_info": {
   "codemirror_mode": {
    "name": "ipython",
    "version": 3
   },
   "file_extension": ".py",
   "mimetype": "text/x-python",
   "name": "python",
   "nbconvert_exporter": "python",
   "pygments_lexer": "ipython3",
   "version": "3.7.3"
  }
 },
 "nbformat": 4,
 "nbformat_minor": 2
}
