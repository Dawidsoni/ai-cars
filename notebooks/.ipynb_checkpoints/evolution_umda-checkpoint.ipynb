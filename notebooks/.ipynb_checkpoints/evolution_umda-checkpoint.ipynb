{
 "cells": [
  {
   "cell_type": "code",
   "execution_count": 1,
   "metadata": {},
   "outputs": [],
   "source": [
    "import pickle\n",
    "import numpy as np\n",
    "import matplotlib.pyplot as plt\n",
    "import sys\n",
    "import time\n",
    "\n",
    "sys.path.append('..')\n",
    "from genotype_evaluator import GenotypeEvaluator\n",
    "\n",
    "%matplotlib inline"
   ]
  },
  {
   "cell_type": "markdown",
   "metadata": {},
   "source": [
    "## Umda implementation"
   ]
  },
  {
   "cell_type": "code",
   "execution_count": 2,
   "metadata": {},
   "outputs": [],
   "source": [
    "def random_individual(probs):\n",
    "    x = np.empty(probs.shape[0], dtype=np.int32)\n",
    "    for i in range(probs.shape[0]):\n",
    "        x[i] = np.random.choice(3, p=[probs[i][0], probs[i][1], probs[i][2]])\n",
    "    return x\n",
    "\n",
    "\n",
    "def random_population(probs, population_size):\n",
    "    population = np.empty((population_size, probs.shape[0]), dtype=np.int32)\n",
    "    for i in range(population_size):\n",
    "        population[i] = random_individual(probs)\n",
    "    return population\n",
    "\n",
    "\n",
    "def select_samples_indexes(objective_function, samples, best_samples_size):\n",
    "    EPSILON_PROBABILITY = 1e-4\n",
    "    adaptations = objective_function(samples)\n",
    "    adaptations = adaptations - np.min(adaptations)\n",
    "    if np.sum(adaptations) == 0:\n",
    "        adaptations = np.repeat(1.0, samples.shape[0])\n",
    "    adaptations[adaptations == 0] = EPSILON_PROBABILITY\n",
    "    adaptations = adaptations / np.sum(adaptations)\n",
    "    return np.random.choice(samples.shape[0], best_samples_size, p=adaptations, replace=False)\n",
    "\n",
    "\n",
    "def umda_model_estimation(samples):\n",
    "    return np.vstack([\n",
    "        np.average(samples == 0, axis=0),\n",
    "        np.average(samples == 1, axis=0),\n",
    "        np.average(samples == 2, axis=0)\n",
    "    ]).transpose()\n",
    "                \n",
    "    \n",
    "def umda(objective_function, dim_size, population_size, best_samples_size, max_time):\n",
    "    p = np.ones((dim_size, 3)) / 3\n",
    "    start_time = time.time()\n",
    "    populations = []\n",
    "    score_map = {}\n",
    "    while time.time() - start_time < max_time:\n",
    "        samples = random_population(p, population_size)\n",
    "        populations.append(samples)\n",
    "        score_values = objective_function(samples)\n",
    "        print(\"Average score values: {}, best score value: {}\".format(np.mean(score_values), np.max(score_values)))\n",
    "        best_samples_indexes = select_samples_indexes(objective_function, samples, best_samples_size)\n",
    "        p = umda_model_estimation(samples[best_samples_indexes])\n",
    "    return populations"
   ]
  },
  {
   "cell_type": "markdown",
   "metadata": {},
   "source": [
    "## Rounded board evaluator"
   ]
  },
  {
   "cell_type": "code",
   "execution_count": 7,
   "metadata": {},
   "outputs": [],
   "source": [
    "genotype_evaluator = GenotypeEvaluator('../clusters/human100_cluster.c', ['../boards/round_board.b'])"
   ]
  },
  {
   "cell_type": "code",
   "execution_count": null,
   "metadata": {},
   "outputs": [],
   "source": [
    "populations = umda(genotype_evaluator.evaluate_genotypes, 100, 100, 30, 3600)"
   ]
  }
 ],
 "metadata": {
  "kernelspec": {
   "display_name": "python3-dw",
   "language": "python",
   "name": "python3-dw"
  },
  "language_info": {
   "codemirror_mode": {
    "name": "ipython",
    "version": 3
   },
   "file_extension": ".py",
   "mimetype": "text/x-python",
   "name": "python",
   "nbconvert_exporter": "python",
   "pygments_lexer": "ipython3",
   "version": "3.7.3"
  }
 },
 "nbformat": 4,
 "nbformat_minor": 2
}
