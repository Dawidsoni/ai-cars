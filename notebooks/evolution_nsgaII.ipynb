{
 "cells": [
  {
   "cell_type": "code",
   "execution_count": 1,
   "metadata": {},
   "outputs": [],
   "source": [
    "import pickle\n",
    "import numpy as np\n",
    "import matplotlib.pyplot as plt\n",
    "import sys\n",
    "import time\n",
    "\n",
    "sys.path.append('..')\n",
    "from genotype_evaluator import GenotypeEvaluator\n",
    "\n",
    "%matplotlib inline"
   ]
  },
  {
   "cell_type": "markdown",
   "metadata": {},
   "source": [
    "## NSGA-II implementation"
   ]
  },
  {
   "cell_type": "code",
   "execution_count": 2,
   "metadata": {},
   "outputs": [
    {
     "name": "stdout",
     "output_type": "stream",
     "text": [
      "[{0, 1, 2}]\n",
      "[{0, 1}, {2, 3}, {4, 5, 6}]\n"
     ]
    }
   ],
   "source": [
    "def fast_non_dominated_sort(f1_values, f2_values):\n",
    "    samples_count = f1_values.shape[0]\n",
    "    dominant_count = {i: 0 for i in range(samples_count)}\n",
    "    dominated_set = {i: set() for i in range(samples_count)}\n",
    "    for i in range(samples_count):\n",
    "        for j in range(i):\n",
    "            if f1_values[i] == f1_values[j] and f2_values[i] == f2_values[j]:\n",
    "                continue\n",
    "            if f1_values[i] <= f1_values[j] and f2_values[i] <= f2_values[j]:\n",
    "                dominant_count[j] += 1\n",
    "                dominated_set[i].add(j)\n",
    "            elif f1_values[i] >= f1_values[j] and f2_values[i] >= f2_values[j]:\n",
    "                dominant_count[i] += 1\n",
    "                dominated_set[j].add(i)\n",
    "    dominant_batches = []\n",
    "    while len(dominant_count) > 0:\n",
    "        zero_indexes = list(filter(lambda x: dominant_count[x] == 0, dominant_count))\n",
    "        dominant_batches.append(set(zero_indexes))\n",
    "        for zero_index in zero_indexes:\n",
    "            del dominant_count[zero_index]\n",
    "            for dominated_index in dominated_set[zero_index]:\n",
    "                dominant_count[dominated_index] -= 1            \n",
    "    return dominant_batches\n",
    "    \n",
    "print(fast_non_dominated_sort(np.array([1, 2, 3]), np.array([6, 5, 4])))\n",
    "print(fast_non_dominated_sort(np.array([1, 2, 3, 4, 5, 6, 7]), np.array([2, 1, 4, 3, 7, 6, 5])))"
   ]
  },
  {
   "cell_type": "code",
   "execution_count": 3,
   "metadata": {},
   "outputs": [
    {
     "name": "stdout",
     "output_type": "stream",
     "text": [
      "[       inf 0.55526316 0.81842105 0.30263158        inf 0.40526316\n",
      "        inf]\n"
     ]
    }
   ],
   "source": [
    "def get_crowding_distances(f1_values, f2_values):\n",
    "    samples_count = f1_values.shape[0]\n",
    "    crowding_distances = [0 for i in range(samples_count)]\n",
    "    sorted_f1_args = np.argsort(f1_values)\n",
    "    sorted_f2_args = np.argsort(f2_values)\n",
    "    for i in range(1, samples_count - 1):\n",
    "        prev_f1_arg, cur_f1_arg, next_f1_arg = sorted_f1_args[i - 1:i + 2] \n",
    "        prev_f2_arg, cur_f2_arg, next_f2_arg = sorted_f2_args[i - 1:i + 2]\n",
    "        f1_dist = (f1_values[next_f1_arg] - f1_values[prev_f1_arg]) / (max(f1_values) - min(f1_values))\n",
    "        f2_dist = (f2_values[next_f2_arg] - f2_values[prev_f2_arg]) / (max(f2_values) - min(f2_values))\n",
    "        crowding_distances[cur_f1_arg] += f1_dist\n",
    "        crowding_distances[cur_f2_arg] += f2_dist\n",
    "    crowding_distances[sorted_f1_args[0]] = np.inf\n",
    "    crowding_distances[sorted_f1_args[samples_count - 1]] = np.inf\n",
    "    crowding_distances[sorted_f2_args[0]] = np.inf    \n",
    "    crowding_distances[sorted_f2_args[samples_count - 1]] = np.inf        \n",
    "    return np.array(crowding_distances)\n",
    "    \n",
    "print(get_crowding_distances(np.array([1, 2, 5, 3, 10, 3, 20]), np.array([10, 15, 7, 11, 1, 20, 21])))"
   ]
  },
  {
   "cell_type": "code",
   "execution_count": 4,
   "metadata": {},
   "outputs": [
    {
     "name": "stdout",
     "output_type": "stream",
     "text": [
      "(array([2, 1, 0, 1]), array([0, 1, 1, 2]))\n",
      "[0 0 1 2 1 1 0]\n",
      "[[0 1 1 1]\n",
      " [2 2 1 2]]\n"
     ]
    }
   ],
   "source": [
    "def crossover(parent1, parent2, crossover_prob):\n",
    "    if np.random.rand() <= crossover_prob:\n",
    "        gen_intersection_point = np.random.choice(parent1.shape[0])\n",
    "        child1 = np.hstack([parent1[:gen_intersection_point], parent2[gen_intersection_point:]])\n",
    "        child2 = np.hstack([parent2[:gen_intersection_point], parent1[gen_intersection_point:]])\n",
    "        return child1, child2\n",
    "    return parent1.copy(), parent2.copy()\n",
    "\n",
    "\n",
    "def mutate_randomly(sample, mutation_prob):\n",
    "    for i in range(sample.shape[0]):\n",
    "        if np.random.rand() <= mutation_prob:\n",
    "            sample[i] = np.random.choice(3)\n",
    "\n",
    "            \n",
    "def make_new_population(samples, crossover_prob, mutation_prob):\n",
    "    children = []\n",
    "    for i in range(0, samples.shape[0], 2):\n",
    "        child1, child2 = crossover(samples[i], samples[i + 1], crossover_prob)\n",
    "        mutate_randomly(child1, mutation_prob)\n",
    "        mutate_randomly(child2, mutation_prob)\n",
    "        children.extend([child1, child2])\n",
    "    return np.array(children)\n",
    "\n",
    "\n",
    "print(crossover(np.array([0, 1, 1, 2]), np.array([2, 1, 0, 1]), 0.75))\n",
    "x = np.array([0, 0, 1, 2, 1, 1, 0])\n",
    "mutate_randomly(x, 0.2)\n",
    "print(x)\n",
    "print(make_new_population(np.array([[0, 0, 1, 2], [2, 2, 2, 1]]), 0.8, 0.2))"
   ]
  },
  {
   "cell_type": "code",
   "execution_count": 8,
   "metadata": {},
   "outputs": [],
   "source": [
    "def nsga2(objective_function, population_size, chromosom_length, crossover_prob, mutation_prob, max_time):\n",
    "    populations = []\n",
    "    population = np.random.choice(3, (population_size, chromosom_length))\n",
    "    start_time = time.time()    \n",
    "    while time.time() - start_time < max_time:\n",
    "        selected_samples = []\n",
    "        f1_values, f2_values = objective_function(population)\n",
    "        dominant_batches = fast_non_dominated_sort(f1_values, f2_values)\n",
    "        print(\"Obj1 mean/max: %d/%d, obj2 mean/max: %d/%d, dominant batches count/first size: %d/%d\" \n",
    "            % (-np.mean(f1_values), -np.min(f1_values), -np.mean(f2_values), -np.min(f2_values), \n",
    "                len(dominant_batches), len(dominant_batches[0]))\n",
    "        )          \n",
    "        batch_number = 0\n",
    "        while batch_number < len(dominant_batches) and len(selected_samples) + len(dominant_batches[batch_number]) <= population_size:\n",
    "            selected_samples.extend(population[list(dominant_batches[batch_number])])\n",
    "            batch_number += 1\n",
    "        if population_size - len(selected_samples) > 0:\n",
    "            batch_indexes = np.array(list(dominant_batches[batch_number]), dtype=np.int32)  \n",
    "            crowding_distances = get_crowding_distances(f1_values[batch_indexes], f2_values[batch_indexes])\n",
    "            sliced_indexes = list(reversed(np.argsort(crowding_distances)))\n",
    "            crowding_indexes = np.array(sliced_indexes, dtype=np.int32)[:(population_size - len(selected_samples))]\n",
    "            selected_samples.extend(population[batch_indexes[crowding_indexes]])  \n",
    "        children = make_new_population(np.array(selected_samples), crossover_prob, mutation_prob)\n",
    "        population = np.unique(np.vstack([selected_samples, children]), axis=0)\n",
    "        populations.append(population)\n",
    "    dominant_batches = fast_non_dominated_sort(*objective_function(population))\n",
    "    return populations"
   ]
  },
  {
   "cell_type": "markdown",
   "metadata": {},
   "source": [
    "## Rounded board evaluator"
   ]
  },
  {
   "cell_type": "code",
   "execution_count": 6,
   "metadata": {},
   "outputs": [],
   "source": [
    "genotype_evaluator = GenotypeEvaluator('../clusters/human100_cluster.c', ['../boards/round_board.b'], True)\n",
    "\n",
    "def evaluate_min_genotypes(genotypes):\n",
    "    f1_values, f2_values = genotype_evaluator.evaluate_genotypes(genotypes)\n",
    "    return -f1_values, -f2_values"
   ]
  },
  {
   "cell_type": "code",
   "execution_count": 10,
   "metadata": {},
   "outputs": [
    {
     "name": "stdout",
     "output_type": "stream",
     "text": [
      "Obj1 mean/max: 321/667, obj2 mean/max: 33/45, dominant batches count/first size: 22/3\n",
      "Obj1 mean/max: 317/685, obj2 mean/max: 33/47, dominant batches count/first size: 36/5\n",
      "Obj1 mean/max: 415/685, obj2 mean/max: 35/47, dominant batches count/first size: 26/7\n",
      "Obj1 mean/max: 459/885, obj2 mean/max: 37/47, dominant batches count/first size: 25/6\n",
      "Obj1 mean/max: 502/885, obj2 mean/max: 38/51, dominant batches count/first size: 24/7\n",
      "Obj1 mean/max: 527/1138, obj2 mean/max: 38/54, dominant batches count/first size: 24/6\n",
      "Obj1 mean/max: 536/1138, obj2 mean/max: 39/54, dominant batches count/first size: 19/4\n",
      "Obj1 mean/max: 551/1138, obj2 mean/max: 39/54, dominant batches count/first size: 24/5\n",
      "Obj1 mean/max: 562/2110, obj2 mean/max: 40/55, dominant batches count/first size: 21/7\n",
      "Obj1 mean/max: 567/2110, obj2 mean/max: 42/57, dominant batches count/first size: 24/6\n",
      "Obj1 mean/max: 582/2110, obj2 mean/max: 43/57, dominant batches count/first size: 25/7\n",
      "Obj1 mean/max: 584/2110, obj2 mean/max: 44/57, dominant batches count/first size: 23/6\n",
      "Obj1 mean/max: 600/2110, obj2 mean/max: 45/58, dominant batches count/first size: 23/8\n",
      "Obj1 mean/max: 607/2110, obj2 mean/max: 46/59, dominant batches count/first size: 23/8\n",
      "Obj1 mean/max: 622/2110, obj2 mean/max: 47/60, dominant batches count/first size: 23/9\n",
      "Obj1 mean/max: 652/2110, obj2 mean/max: 47/62, dominant batches count/first size: 20/6\n",
      "Obj1 mean/max: 664/2111, obj2 mean/max: 48/62, dominant batches count/first size: 20/5\n",
      "Obj1 mean/max: 676/2111, obj2 mean/max: 49/64, dominant batches count/first size: 23/7\n",
      "Obj1 mean/max: 684/2111, obj2 mean/max: 50/64, dominant batches count/first size: 23/8\n",
      "Obj1 mean/max: 711/2111, obj2 mean/max: 50/64, dominant batches count/first size: 22/9\n",
      "Obj1 mean/max: 716/2111, obj2 mean/max: 51/66, dominant batches count/first size: 20/11\n",
      "Obj1 mean/max: 760/2111, obj2 mean/max: 51/66, dominant batches count/first size: 21/11\n",
      "Obj1 mean/max: 787/2111, obj2 mean/max: 51/67, dominant batches count/first size: 22/11\n",
      "Obj1 mean/max: 883/2111, obj2 mean/max: 51/67, dominant batches count/first size: 18/10\n",
      "Obj1 mean/max: 863/2111, obj2 mean/max: 52/70, dominant batches count/first size: 22/6\n",
      "Obj1 mean/max: 828/2111, obj2 mean/max: 55/70, dominant batches count/first size: 21/7\n",
      "Obj1 mean/max: 855/2111, obj2 mean/max: 57/70, dominant batches count/first size: 19/8\n",
      "Obj1 mean/max: 820/2111, obj2 mean/max: 58/70, dominant batches count/first size: 24/7\n",
      "Obj1 mean/max: 848/2111, obj2 mean/max: 57/70, dominant batches count/first size: 22/9\n",
      "Obj1 mean/max: 786/2111, obj2 mean/max: 58/72, dominant batches count/first size: 26/11\n",
      "Obj1 mean/max: 825/2111, obj2 mean/max: 59/72, dominant batches count/first size: 22/12\n",
      "Obj1 mean/max: 866/2111, obj2 mean/max: 59/72, dominant batches count/first size: 23/10\n",
      "Obj1 mean/max: 816/2111, obj2 mean/max: 61/72, dominant batches count/first size: 21/11\n",
      "Obj1 mean/max: 856/2111, obj2 mean/max: 61/72, dominant batches count/first size: 22/12\n",
      "Obj1 mean/max: 914/2111, obj2 mean/max: 61/72, dominant batches count/first size: 25/9\n",
      "Obj1 mean/max: 967/2111, obj2 mean/max: 61/73, dominant batches count/first size: 25/10\n",
      "Obj1 mean/max: 961/2111, obj2 mean/max: 62/73, dominant batches count/first size: 20/6\n",
      "Obj1 mean/max: 979/2111, obj2 mean/max: 62/74, dominant batches count/first size: 22/6\n",
      "Obj1 mean/max: 963/2111, obj2 mean/max: 62/74, dominant batches count/first size: 21/7\n",
      "Obj1 mean/max: 926/2111, obj2 mean/max: 63/74, dominant batches count/first size: 28/8\n",
      "Obj1 mean/max: 954/2111, obj2 mean/max: 64/74, dominant batches count/first size: 22/9\n",
      "Obj1 mean/max: 883/2111, obj2 mean/max: 65/76, dominant batches count/first size: 23/6\n",
      "Obj1 mean/max: 871/2111, obj2 mean/max: 65/76, dominant batches count/first size: 22/9\n",
      "Obj1 mean/max: 826/2111, obj2 mean/max: 66/76, dominant batches count/first size: 25/8\n",
      "Obj1 mean/max: 875/2111, obj2 mean/max: 66/78, dominant batches count/first size: 27/13\n",
      "Obj1 mean/max: 865/2111, obj2 mean/max: 67/78, dominant batches count/first size: 20/10\n",
      "Obj1 mean/max: 850/2111, obj2 mean/max: 67/78, dominant batches count/first size: 19/7\n",
      "Obj1 mean/max: 934/2111, obj2 mean/max: 67/80, dominant batches count/first size: 22/8\n",
      "Obj1 mean/max: 997/2111, obj2 mean/max: 67/82, dominant batches count/first size: 21/8\n",
      "Obj1 mean/max: 998/2111, obj2 mean/max: 68/82, dominant batches count/first size: 19/8\n",
      "Obj1 mean/max: 960/2111, obj2 mean/max: 68/82, dominant batches count/first size: 20/11\n",
      "Obj1 mean/max: 970/2111, obj2 mean/max: 68/82, dominant batches count/first size: 22/11\n",
      "Obj1 mean/max: 1029/2111, obj2 mean/max: 68/82, dominant batches count/first size: 21/10\n",
      "Obj1 mean/max: 999/2111, obj2 mean/max: 69/82, dominant batches count/first size: 21/16\n",
      "Obj1 mean/max: 989/2111, obj2 mean/max: 69/83, dominant batches count/first size: 17/17\n",
      "Obj1 mean/max: 987/2111, obj2 mean/max: 69/83, dominant batches count/first size: 23/17\n",
      "Obj1 mean/max: 1031/2111, obj2 mean/max: 69/83, dominant batches count/first size: 21/20\n",
      "Obj1 mean/max: 1172/2111, obj2 mean/max: 68/83, dominant batches count/first size: 20/16\n",
      "Obj1 mean/max: 1112/2111, obj2 mean/max: 69/83, dominant batches count/first size: 17/15\n",
      "Obj1 mean/max: 1048/2111, obj2 mean/max: 70/83, dominant batches count/first size: 20/19\n",
      "Obj1 mean/max: 1074/2111, obj2 mean/max: 70/83, dominant batches count/first size: 19/12\n",
      "Obj1 mean/max: 1033/2111, obj2 mean/max: 70/83, dominant batches count/first size: 20/11\n",
      "Obj1 mean/max: 988/2111, obj2 mean/max: 71/83, dominant batches count/first size: 20/13\n",
      "Obj1 mean/max: 929/2111, obj2 mean/max: 72/83, dominant batches count/first size: 20/11\n",
      "Obj1 mean/max: 880/2111, obj2 mean/max: 73/83, dominant batches count/first size: 22/9\n",
      "Obj1 mean/max: 952/2111, obj2 mean/max: 72/83, dominant batches count/first size: 21/10\n",
      "Obj1 mean/max: 877/2111, obj2 mean/max: 73/83, dominant batches count/first size: 21/14\n",
      "Obj1 mean/max: 906/2111, obj2 mean/max: 74/83, dominant batches count/first size: 24/15\n",
      "Obj1 mean/max: 866/2111, obj2 mean/max: 74/83, dominant batches count/first size: 26/14\n",
      "Obj1 mean/max: 970/2111, obj2 mean/max: 73/83, dominant batches count/first size: 21/11\n",
      "Obj1 mean/max: 960/2111, obj2 mean/max: 74/83, dominant batches count/first size: 20/12\n"
     ]
    }
   ],
   "source": [
    "populations = nsga2(evaluate_min_genotypes, 100, 100, 0.9, 0.05, 3600)"
   ]
  },
  {
   "cell_type": "code",
   "execution_count": 18,
   "metadata": {},
   "outputs": [
    {
     "data": {
      "image/png": "[encoded data removed]",
      "text/plain": [
       "<Figure size 864x576 with 1 Axes>"
      ]
     },
     "metadata": {
      "needs_background": "dark"
     },
     "output_type": "display_data"
    }
   ],
   "source": [
    "gen5_f1_values, gen5_f2_values = genotype_evaluator.evaluate_genotypes(populations[5])\n",
    "last_gen_f1_values, last_gen_f2_values = genotype_evaluator.evaluate_genotypes(populations[-1])\n",
    "fig = plt.figure(figsize=(12, 8))\n",
    "ax = fig.add_subplot()\n",
    "ax.scatter(gen5_f1_values, gen5_f2_values)\n",
    "ax.scatter(last_gen_f1_values, last_gen_f2_values)\n",
    "ax.tick_params(axis='x', colors='white')\n",
    "ax.tick_params(axis='y', colors='white')"
   ]
  },
  {
   "cell_type": "code",
   "execution_count": 43,
   "metadata": {},
   "outputs": [],
   "source": [
    "gen5_genotype = populations[5][np.argmax(f1_values)]\n",
    "last_gen_priorities = list(zip(last_gen_f1_values, last_gen_f2_values))\n",
    "best_index = sorted(range(len(populations[-1])), key=lambda x: last_gen_priorities[x])[-1] \n",
    "best_genotype = populations[-1][best_index]"
   ]
  },
  {
   "cell_type": "code",
   "execution_count": 45,
   "metadata": {},
   "outputs": [],
   "source": [
    "with open('../individuals/rb_nsga2_gen5.i', 'wb') as file_stream:\n",
    "    gen5_individual = genotype_evaluator.individual_factory.create_individual(gen5_genotype)\n",
    "    gen5_individual.marker_manager.game_state_marker_lines = {}\n",
    "    pickle.dump(gen5_individual, file_stream)\n",
    "with open('../individuals/rb_nsga2_best.i', 'wb') as file_stream:\n",
    "    best_individual = genotype_evaluator.individual_factory.create_individual(best_genotype)\n",
    "    best_individual.marker_manager.game_state_marker_lines = {}\n",
    "    pickle.dump(best_individual, file_stream)"
   ]
  }
 ],
 "metadata": {
  "kernelspec": {
   "display_name": "python3-dw",
   "language": "python",
   "name": "python3-dw"
  },
  "language_info": {
   "codemirror_mode": {
    "name": "ipython",
    "version": 3
   },
   "file_extension": ".py",
   "mimetype": "text/x-python",
   "name": "python",
   "nbconvert_exporter": "python",
   "pygments_lexer": "ipython3",
   "version": "3.7.3"
  }
 },
 "nbformat": 4,
 "nbformat_minor": 2
}
