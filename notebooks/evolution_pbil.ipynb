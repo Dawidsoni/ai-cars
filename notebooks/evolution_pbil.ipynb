{
 "cells": [
  {
   "cell_type": "code",
   "execution_count": 1,
   "metadata": {},
   "outputs": [],
   "source": [
    "import pickle\n",
    "import numpy as np\n",
    "import matplotlib.pyplot as plt\n",
    "import sys\n",
    "import time\n",
    "\n",
    "sys.path.append('..')\n",
    "from genotype_evaluator import GenotypeEvaluator\n",
    "\n",
    "%matplotlib inline"
   ]
  },
  {
   "cell_type": "markdown",
   "metadata": {},
   "source": [
    "## Pbil implementation"
   ]
  },
  {
   "cell_type": "code",
   "execution_count": 7,
   "metadata": {},
   "outputs": [],
   "source": [
    "def random_individual(probs):\n",
    "    x = np.empty(probs.shape[0], dtype=np.int32)\n",
    "    for i in range(probs.shape[0]):\n",
    "        x[i] = np.random.choice(3, p=[probs[i][0], probs[i][1], probs[i][2]])\n",
    "    return x\n",
    "\n",
    "\n",
    "def random_population(probs, population_size):\n",
    "    population = np.empty((population_size, probs.shape[0]), dtype=np.int32)\n",
    "    for i in range(population_size):\n",
    "        population[i] = random_individual(probs)\n",
    "    return population\n",
    "\n",
    "\n",
    "def get_updated_probabilities(probs, learning_rate, increased_index):\n",
    "    updated_probs = probs.copy()\n",
    "    updated_probs[increased_index] = (1 - learning_rate) * probs[increased_index] + learning_rate\n",
    "    decreased_indexes = list(set(range(len(probs))).difference([increased_index]))\n",
    "    decreased_elements_sum = np.sum(updated_probs[decreased_indexes])\n",
    "    if decreased_elements_sum == 0:\n",
    "        return updated_probs\n",
    "    excess_sum = np.sum(updated_probs) - 1\n",
    "    updated_probs[decreased_indexes] *= (decreased_elements_sum - excess_sum) / decreased_elements_sum\n",
    "    return updated_probs \n",
    "\n",
    "\n",
    "def pbil(objective_function, dim_size, population_size, learning_rate, mutation_prob, mutation_noise, max_time):\n",
    "    p = np.ones((dim_size, 3)) / 3\n",
    "    start_time = time.time()\n",
    "    populations = []\n",
    "    while time.time() - start_time < max_time:\n",
    "        samples = random_population(p, population_size)\n",
    "        populations.append(samples)\n",
    "        score_values = objective_function(samples)\n",
    "        print(\"Average score values: {}, best score value: {}\".format(np.mean(score_values), np.max(score_values)))\n",
    "        best_individual = samples[np.argmax(score_values)]\n",
    "        for k in range(dim_size):\n",
    "            p[k] = get_updated_probabilities(p[k], learning_rate, best_individual[k])\n",
    "        for k in range(dim_size):\n",
    "            if np.random.rand() < mutation_prob:\n",
    "                increased_index = np.random.choice(3)\n",
    "                p[k] = get_updated_probabilities(p[k], mutation_noise, increased_index)\n",
    "    return populations, p"
   ]
  },
  {
   "cell_type": "markdown",
   "metadata": {},
   "source": [
    "## Rounded board evaluator"
   ]
  },
  {
   "cell_type": "code",
   "execution_count": 2,
   "metadata": {},
   "outputs": [],
   "source": [
    "genotype_evaluator = GenotypeEvaluator('../clusters/human100_cluster.c', ['../boards/round_board.b'])"
   ]
  },
  {
   "cell_type": "code",
   "execution_count": 8,
   "metadata": {},
   "outputs": [
    {
     "name": "stdout",
     "output_type": "stream",
     "text": [
      "Average score values: 350.23, best score value: 674.0\n",
      "Average score values: 330.11, best score value: 2111.0\n",
      "Average score values: 342.0, best score value: 734.0\n",
      "Average score values: 388.85, best score value: 2112.0\n",
      "Average score values: 344.06, best score value: 640.0\n",
      "Average score values: 389.21, best score value: 690.0\n",
      "Average score values: 439.68, best score value: 2111.0\n",
      "Average score values: 370.83, best score value: 2111.0\n",
      "Average score values: 414.13, best score value: 2110.0\n",
      "Average score values: 439.49, best score value: 2111.0\n",
      "Average score values: 434.49, best score value: 2008.0\n",
      "Average score values: 459.95, best score value: 2111.0\n",
      "Average score values: 481.03, best score value: 2111.0\n",
      "Average score values: 477.21, best score value: 2111.0\n",
      "Average score values: 482.77, best score value: 2111.0\n",
      "Average score values: 549.25, best score value: 2111.0\n",
      "Average score values: 593.5, best score value: 2111.0\n",
      "Average score values: 654.96, best score value: 2111.0\n",
      "Average score values: 726.97, best score value: 2112.0\n",
      "Average score values: 705.59, best score value: 2111.0\n",
      "Average score values: 771.31, best score value: 2112.0\n",
      "Average score values: 683.55, best score value: 2111.0\n",
      "Average score values: 794.0, best score value: 2111.0\n",
      "Average score values: 798.67, best score value: 2112.0\n",
      "Average score values: 713.59, best score value: 2111.0\n",
      "Average score values: 909.93, best score value: 2112.0\n",
      "Average score values: 785.22, best score value: 2111.0\n",
      "Average score values: 762.82, best score value: 2112.0\n",
      "Average score values: 1037.65, best score value: 2111.0\n",
      "Average score values: 957.24, best score value: 2112.0\n",
      "Average score values: 1084.82, best score value: 2112.0\n",
      "Average score values: 1028.16, best score value: 2112.0\n",
      "Average score values: 1007.66, best score value: 2112.0\n",
      "Average score values: 924.83, best score value: 2112.0\n",
      "Average score values: 998.99, best score value: 2111.0\n",
      "Average score values: 1106.58, best score value: 2112.0\n",
      "Average score values: 1220.16, best score value: 2112.0\n",
      "Average score values: 1214.58, best score value: 2112.0\n",
      "Average score values: 1327.49, best score value: 2112.0\n",
      "Average score values: 1334.95, best score value: 2112.0\n",
      "Average score values: 1276.75, best score value: 2112.0\n",
      "Average score values: 1178.94, best score value: 2111.0\n",
      "Average score values: 1168.28, best score value: 2112.0\n",
      "Average score values: 1229.66, best score value: 2112.0\n",
      "Average score values: 1293.95, best score value: 2112.0\n",
      "Average score values: 1177.5, best score value: 2112.0\n",
      "Average score values: 1207.75, best score value: 2112.0\n",
      "Average score values: 1310.16, best score value: 2112.0\n",
      "Average score values: 1332.63, best score value: 2112.0\n",
      "Average score values: 1300.85, best score value: 2112.0\n",
      "Average score values: 1256.91, best score value: 2112.0\n",
      "Average score values: 1301.46, best score value: 2112.0\n",
      "Average score values: 1325.16, best score value: 2112.0\n",
      "Average score values: 1351.08, best score value: 2112.0\n",
      "Average score values: 1394.13, best score value: 2112.0\n",
      "Average score values: 1454.68, best score value: 2112.0\n",
      "Average score values: 1318.42, best score value: 2112.0\n"
     ]
    }
   ],
   "source": [
    "rb_populations, rb_probs = pbil(genotype_evaluator.evaluate_genotypes, 100, 100, 0.1, 0.05, 0.01, 3600)"
   ]
  },
  {
   "cell_type": "code",
   "execution_count": 31,
   "metadata": {},
   "outputs": [],
   "source": [
    "with open('../individuals/rb_pbil_gen5.i', 'wb') as file_stream:\n",
    "    best_index = np.argmax(genotype_evaluator.evaluate_genotypes(rb_populations[5]))\n",
    "    gen5_individual = genotype_evaluator.individual_factory.create_individual(rb_populations[5][best_index])\n",
    "    gen5_individual.marker_manager.game_state_marker_lines = {}\n",
    "    pickle.dump(gen5_individual, file_stream)\n",
    "with open('../individuals/rb_pbil_best.i', 'wb') as file_stream:\n",
    "    best_index = np.argmax(genotype_evaluator.evaluate_genotypes(rb_populations[-1]))\n",
    "    best_individual = genotype_evaluator.individual_factory.create_individual(rb_populations[-1][best_index])\n",
    "    best_individual.marker_manager.game_state_marker_lines = {}\n",
    "    pickle.dump(best_individual, file_stream)"
   ]
  }
 ],
 "metadata": {
  "kernelspec": {
   "display_name": "python3-dw",
   "language": "python",
   "name": "python3-dw"
  },
  "language_info": {
   "codemirror_mode": {
    "name": "ipython",
    "version": 3
   },
   "file_extension": ".py",
   "mimetype": "text/x-python",
   "name": "python",
   "nbconvert_exporter": "python",
   "pygments_lexer": "ipython3",
   "version": "3.7.3"
  }
 },
 "nbformat": 4,
 "nbformat_minor": 2
}
