{
 "cells": [
  {
   "cell_type": "code",
   "execution_count": 1,
   "metadata": {},
   "outputs": [],
   "source": [
    "import pickle\n",
    "import numpy as np\n",
    "import matplotlib.pyplot as plt\n",
    "import sys\n",
    "import time\n",
    "\n",
    "sys.path.append('..')\n",
    "from genotype_evaluator import GenotypeEvaluator\n",
    "\n",
    "%matplotlib inline"
   ]
  },
  {
   "cell_type": "markdown",
   "metadata": {},
   "source": [
    "## Umda implementation"
   ]
  },
  {
   "cell_type": "code",
   "execution_count": 11,
   "metadata": {},
   "outputs": [],
   "source": [
    "def random_individual(probs):\n",
    "    x = np.empty(probs.shape[0], dtype=np.int32)\n",
    "    for i in range(probs.shape[0]):\n",
    "        x[i] = np.random.choice(3, p=[probs[i][0], probs[i][1], probs[i][2]])\n",
    "    return x\n",
    "\n",
    "\n",
    "def random_population(probs, population_size):\n",
    "    population = np.empty((population_size, probs.shape[0]), dtype=np.int32)\n",
    "    for i in range(population_size):\n",
    "        population[i] = random_individual(probs)\n",
    "    return population\n",
    "\n",
    "\n",
    "def select_samples_indexes(objective_function, samples, best_samples_size):\n",
    "    EPSILON_PROBABILITY = 1e-4\n",
    "    adaptations = objective_function(samples)\n",
    "    adaptations = adaptations - np.min(adaptations)\n",
    "    if np.sum(adaptations) == 0:\n",
    "        adaptations = np.repeat(1.0, samples.shape[0])\n",
    "    adaptations[adaptations == 0] = EPSILON_PROBABILITY\n",
    "    adaptations = adaptations / np.sum(adaptations)\n",
    "    return np.random.choice(samples.shape[0], best_samples_size, p=adaptations, replace=False)\n",
    "\n",
    "\n",
    "def umda_model_estimation(samples):\n",
    "    return np.vstack([\n",
    "        np.average(samples == 0, axis=0),\n",
    "        np.average(samples == 1, axis=0),\n",
    "        np.average(samples == 2, axis=0)\n",
    "    ]).transpose()\n",
    "                \n",
    "    \n",
    "def umda(objective_function, dim_size, population_size, best_samples_size, max_time):\n",
    "    p = np.ones((dim_size, 3)) / 3\n",
    "    start_time = time.time()\n",
    "    populations = []\n",
    "    score_map = {}\n",
    "    while time.time() - start_time < max_time:\n",
    "        samples = random_population(p, population_size)\n",
    "        populations.append(samples)\n",
    "        score_values = objective_function(samples)\n",
    "        print(\"Average score values: {}, best score value: {}\".format(np.mean(score_values), np.max(score_values)))\n",
    "        best_samples_indexes = select_samples_indexes(objective_function, samples, best_samples_size)\n",
    "        p = umda_model_estimation(samples[best_samples_indexes])\n",
    "    return populations, p"
   ]
  },
  {
   "cell_type": "markdown",
   "metadata": {},
   "source": [
    "## Rounded board evaluator"
   ]
  },
  {
   "cell_type": "code",
   "execution_count": 7,
   "metadata": {},
   "outputs": [],
   "source": [
    "genotype_evaluator = GenotypeEvaluator('../clusters/human100_cluster.c', ['../boards/round_board.b'])"
   ]
  },
  {
   "cell_type": "code",
   "execution_count": null,
   "metadata": {},
   "outputs": [
    {
     "name": "stdout",
     "output_type": "stream",
     "text": [
      "Average score values: 350.51, best score value: 679.0\n",
      "Average score values: 370.44, best score value: 678.0\n",
      "Average score values: 385.1, best score value: 679.0\n",
      "Average score values: 399.57, best score value: 683.0\n",
      "Average score values: 456.32, best score value: 986.0\n",
      "Average score values: 491.14, best score value: 673.0\n",
      "Average score values: 485.38, best score value: 688.0\n",
      "Average score values: 495.77, best score value: 951.0\n",
      "Average score values: 545.6, best score value: 2111.0\n",
      "Average score values: 541.06, best score value: 2110.0\n",
      "Average score values: 558.76, best score value: 1459.0\n",
      "Average score values: 674.48, best score value: 2111.0\n",
      "Average score values: 616.3, best score value: 2110.0\n",
      "Average score values: 607.4, best score value: 2110.0\n",
      "Average score values: 599.06, best score value: 1190.0\n",
      "Average score values: 726.68, best score value: 2111.0\n",
      "Average score values: 830.11, best score value: 2111.0\n",
      "Average score values: 1088.39, best score value: 2111.0\n",
      "Average score values: 1363.82, best score value: 2111.0\n",
      "Average score values: 1695.06, best score value: 2111.0\n",
      "Average score values: 1723.92, best score value: 2111.0\n",
      "Average score values: 1910.37, best score value: 2111.0\n",
      "Average score values: 1912.94, best score value: 2111.0\n",
      "Average score values: 2040.29, best score value: 2111.0\n",
      "Average score values: 2080.5, best score value: 2111.0\n",
      "Average score values: 2043.06, best score value: 2111.0\n",
      "Average score values: 2110.37, best score value: 2111.0\n",
      "Average score values: 2110.68, best score value: 2111.0\n",
      "Average score values: 2110.89, best score value: 2111.0\n",
      "Average score values: 2110.95, best score value: 2111.0\n"
     ]
    }
   ],
   "source": [
    "rb_populations, rb_probs = umda(genotype_evaluator.evaluate_genotypes, 100, 100, 20, 3600)"
   ]
  },
  {
   "cell_type": "code",
   "execution_count": null,
   "metadata": {},
   "outputs": [],
   "source": [
    "with open('../individuals/rb_umda_gen5.i', 'wb') as file_stream:\n",
    "    best_index = np.argmax(genotype_evaluator.evaluate_genotypes(rb_populations[5]))\n",
    "    gen5_individual = genotype_evaluator.individual_factory.create_individual(rb_populations[5][best_index])\n",
    "    gen5_individual.marker_manager.game_state_marker_lines = {}\n",
    "    pickle.dump(gen5_individual, file_stream)\n",
    "with open('../individuals/rb_umda_best.i', 'wb') as file_stream:\n",
    "    best_index = np.argmax(genotype_evaluator.evaluate_genotypes(rb_populations[-1]))\n",
    "    best_individual = genotype_evaluator.individual_factory.create_individual(rb_populations[-1][best_index])\n",
    "    best_individual.marker_manager.game_state_marker_lines = {}\n",
    "    pickle.dump(best_individual, file_stream)"
   ]
  }
 ],
 "metadata": {
  "kernelspec": {
   "display_name": "python3-dw",
   "language": "python",
   "name": "python3-dw"
  },
  "language_info": {
   "codemirror_mode": {
    "name": "ipython",
    "version": 3
   },
   "file_extension": ".py",
   "mimetype": "text/x-python",
   "name": "python",
   "nbconvert_exporter": "python",
   "pygments_lexer": "ipython3",
   "version": "3.7.3"
  }
 },
 "nbformat": 4,
 "nbformat_minor": 2
}
